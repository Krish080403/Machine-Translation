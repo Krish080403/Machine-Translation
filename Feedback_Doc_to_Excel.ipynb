{
  "nbformat": 4,
  "nbformat_minor": 0,
  "metadata": {
    "colab": {
      "provenance": []
    },
    "kernelspec": {
      "name": "python3",
      "display_name": "Python 3"
    },
    "language_info": {
      "name": "python"
    }
  },
  "cells": [
    {
      "cell_type": "code",
      "source": [
        "!pip install python-docx # install the correct package name: python-docx"
      ],
      "metadata": {
        "id": "_mW-ZmHiMeNj"
      },
      "execution_count": null,
      "outputs": []
    },
    {
      "cell_type": "code",
      "source": [
        "##UPDATED"
      ],
      "metadata": {
        "id": "Zos7CTOSPRLE"
      },
      "execution_count": null,
      "outputs": []
    },
    {
      "cell_type": "code",
      "source": [
        "from docx import Document\n",
        "import pandas as pd\n",
        "\n",
        "def generate_correct_and_incorrect_sentences(docx_path):\n",
        "    document = Document(docx_path)\n",
        "\n",
        "    data = []  # To store rows of the table\n",
        "\n",
        "    for paragraph in document.paragraphs:\n",
        "        sentence = paragraph.text.strip()  # The full sentence in the paragraph\n",
        "        if not sentence:  # Skip empty paragraphs\n",
        "            continue\n",
        "\n",
        "        correct_sentence = sentence\n",
        "        incorrect_sentence = sentence\n",
        "        red_struck_words = []\n",
        "        red_non_struck_words = []\n",
        "\n",
        "        for run in paragraph.runs:\n",
        "            text = run.text.strip()  # Remove leading/trailing spaces\n",
        "\n",
        "            # Identify red struck-through words\n",
        "            if run.font.color and run.font.color.rgb == (255, 0, 0):  # RGB for red\n",
        "                if run.font.strike:\n",
        "                    red_struck_words.append(text)\n",
        "                else:\n",
        "                    red_non_struck_words.append(text)\n",
        "\n",
        "        # Remove struck-through words from the correct sentence\n",
        "        for word in red_struck_words:\n",
        "            correct_sentence = correct_sentence.replace(word, \"\").strip()\n",
        "\n",
        "        # Remove non-struck-through words from the incorrect sentence\n",
        "        for word in red_non_struck_words:\n",
        "            incorrect_sentence = incorrect_sentence.replace(word, \"\").strip()\n",
        "\n",
        "        # Remove extra spaces caused by word removal\n",
        "        correct_sentence = \" \".join(correct_sentence.split()).strip()\n",
        "        incorrect_sentence = \" \".join(incorrect_sentence.split()).strip()\n",
        "\n",
        "        # If no red words are present, make the Incorrect Sentence column empty\n",
        "        if not red_struck_words and not red_non_struck_words:\n",
        "            incorrect_sentence = \"\"\n",
        "\n",
        "        # Add the data for this paragraph to the table\n",
        "        data.append({\n",
        "            \"Correct Sentence\": correct_sentence,\n",
        "            \"Incorrect Sentence\": incorrect_sentence,\n",
        "        })\n",
        "\n",
        "    return data\n",
        "\n",
        "# Path to your Word document\n",
        "docx_path = \"/content/Episode 104-27.08.2023 PM Mann Ki Baat_Proofread Version.docx\"  # Use the uploaded file path\n",
        "\n",
        "# Generate sentences\n",
        "data = generate_correct_and_incorrect_sentences(docx_path)\n",
        "\n",
        "# Create a DataFrame for better visualization\n",
        "df = pd.DataFrame(data)\n",
        "\n",
        "df['Correct Sentence'] = df['Correct Sentence'].str.strip()\n",
        "df['Incorrect Sentence'] = df['Incorrect Sentence'].str.strip()\n",
        "df['Correct Sentence'] = df['Correct Sentence'].str.replace(r'\\s+', ' ', regex=True)\n",
        "\n",
        "\n",
        "# Save to an Excel file\n",
        "output_excel_path = \"/content/Episode 104-27.08.2023 PM Mann Ki Baat_Proofread Version.xlsx\"\n",
        "df.to_excel(output_excel_path, index=False, engine='openpyxl')\n",
        "print(df)\n",
        "# Display the resulting file path for download\n",
        "output_excel_path\n"
      ],
      "metadata": {
        "id": "RxS5ZEjjRSgS",
        "colab": {
          "base_uri": "https://localhost:8080/",
          "height": 504
        },
        "outputId": "5182553f-cc5f-40bf-9152-f4c946fb149e"
      },
      "execution_count": null,
      "outputs": [
        {
          "output_type": "stream",
          "name": "stdout",
          "text": [
            "                                      Correct Sentence  \\\n",
            "0                        अञ: दुलड़ा परिवार रेनको जोआर।   \n",
            "1    जी रा: जगर रेअ: जगर को अगस्त रपिसोड मोसा ओड़ोः...   \n",
            "2    अइञ नेअः उड़ुः का होबा दाड़िओअ चि जां इमतङ नेक...   \n",
            "3     सवन माने महाशिव चण्डु, पोरोब ओड़ोः रासिका चण्डु।   \n",
            "4    सफलता ते पोरोब रेअः ने माहौल इसु पुरअः हाराइदि...   \n",
            "..                                                 ...   \n",
            "257  हिजुः सोमय अपेअते ओड़ोः 'मोन रेअः जगर' होबाओःअ...   \n",
            "258  अबु दिसुम होड़ो कोअः नवा प्रयास रअः इनकुअः सफल...   \n",
            "259                       इमतं समते मेनते आञके कुलकिम।   \n",
            "260                               पुरअः-पुरअः धन्यवाद।   \n",
            "261                                              जोआर।   \n",
            "\n",
            "                                    Incorrect Sentence  \n",
            "0                                                       \n",
            "1    जी रा: जगर रेअ: जगर को अगस्त रपिसोड मोसा ओड़ोः...  \n",
            "2    अइञ नेअः उड़ुः का होबा दाड़िओअ चि जां इमतङ नेक...  \n",
            "3     रावण चि महावीरः चण्डु, पोरोब ओड़ोः रासिका चण्डु।  \n",
            "4    चंद्रयान रअः चंद्रयान रअः सफलता ते पोरोब रेअः ...  \n",
            "..                                                 ...  \n",
            "257                                                     \n",
            "258                                                     \n",
            "259                                                     \n",
            "260                                                     \n",
            "261                                                     \n",
            "\n",
            "[262 rows x 2 columns]\n"
          ]
        },
        {
          "output_type": "execute_result",
          "data": {
            "text/plain": [
              "'/content/Episode 104-27.08.2023 PM Mann Ki Baat_Proofread Version.xlsx'"
            ],
            "application/vnd.google.colaboratory.intrinsic+json": {
              "type": "string"
            }
          },
          "metadata": {},
          "execution_count": 14
        }
      ]
    },
    {
      "cell_type": "code",
      "source": [
        "from docx import Document\n",
        "import pandas as pd\n",
        "import os\n",
        "\n",
        "def generate_correct_and_incorrect_sentences(docx_path):\n",
        "    document = Document(docx_path)\n",
        "\n",
        "    data = []  # To store rows of the table\n",
        "\n",
        "    for paragraph in document.paragraphs:\n",
        "        sentence = paragraph.text.strip()  # Full sentence in paragraph\n",
        "        if not sentence:\n",
        "            continue\n",
        "\n",
        "        correct_sentence = sentence\n",
        "        incorrect_sentence = sentence\n",
        "        red_struck_words = []\n",
        "        red_non_struck_words = []\n",
        "\n",
        "        for run in paragraph.runs:\n",
        "            text = run.text.strip()\n",
        "            if run.font.color and run.font.color.rgb == (255, 0, 0):  # Red color\n",
        "                if run.font.strike:\n",
        "                    red_struck_words.append(text)\n",
        "                else:\n",
        "                    red_non_struck_words.append(text)\n",
        "\n",
        "        for word in red_struck_words:\n",
        "            correct_sentence = correct_sentence.replace(word, \"\").strip()\n",
        "\n",
        "        for word in red_non_struck_words:\n",
        "            incorrect_sentence = incorrect_sentence.replace(word, \"\").strip()\n",
        "\n",
        "        correct_sentence = \" \".join(correct_sentence.split()).strip()\n",
        "        incorrect_sentence = \" \".join(incorrect_sentence.split()).strip()\n",
        "\n",
        "        if not red_struck_words and not red_non_struck_words:\n",
        "            incorrect_sentence = \"\"\n",
        "\n",
        "        data.append({\n",
        "            \"Correct Sentence\": correct_sentence,\n",
        "            \"Incorrect Sentence\": incorrect_sentence,\n",
        "        })\n",
        "\n",
        "    return data\n",
        "\n",
        "# Get list of all docx files in the current directory\n",
        "docx_files = [f for f in os.listdir('.') if f.endswith('.docx')]\n",
        "\n",
        "# Process each docx file\n",
        "for docx_path in docx_files:\n",
        "    print(f\"Processing file: {docx_path}\")\n",
        "    data = generate_correct_and_incorrect_sentences(docx_path)\n",
        "\n",
        "    # Create DataFrame\n",
        "    df = pd.DataFrame(data)\n",
        "    df['Correct Sentence'] = df['Correct Sentence'].str.strip()\n",
        "    df['Incorrect Sentence'] = df['Incorrect Sentence'].str.strip()\n",
        "    df['Correct Sentence'] = df['Correct Sentence'].str.replace(r'\\s+', ' ', regex=True)\n",
        "\n",
        "    # Create output Excel filename\n",
        "    output_excel_path = docx_path.replace('.docx', '.xlsx')\n",
        "\n",
        "    # Save DataFrame to Excel\n",
        "    df.to_excel(output_excel_path, index=False, engine='openpyxl')\n",
        "    print(f\"Saved to: {output_excel_path}\")\n",
        "\n",
        "print(\"All files processed!\")\n"
      ],
      "metadata": {
        "id": "QuoR4nRcRsfo",
        "colab": {
          "base_uri": "https://localhost:8080/"
        },
        "outputId": "dbb2880f-a8a1-4ad5-c050-ba593a47445c"
      },
      "execution_count": null,
      "outputs": [
        {
          "output_type": "stream",
          "name": "stdout",
          "text": [
            "Processing file: Episode 102-18.06.2023 PM Mann Ki Baat.docx\n",
            "Saved to: Episode 102-18.06.2023 PM Mann Ki Baat.xlsx\n",
            "Processing file: 2023_PM Speech_proofread version.docx\n",
            "Saved to: 2023_PM Speech_proofread version.xlsx\n",
            "Processing file: 2022_PM_s Speech_Proofread version.docx\n",
            "Saved to: 2022_PM_s Speech_Proofread version.xlsx\n",
            "Processing file: 2024_President Speech_Proofread Version.docx\n",
            "Saved to: 2024_President Speech_Proofread Version.xlsx\n",
            "Processing file: Episode 104-27.08.2023 PM Mann Ki Baat_Proofread Version.docx\n",
            "Saved to: Episode 104-27.08.2023 PM Mann Ki Baat_Proofread Version.xlsx\n",
            "Processing file: 2024_PM_s Speech_Proofread Version.docx\n",
            "Saved to: 2024_PM_s Speech_Proofread Version.xlsx\n",
            "Processing file: 2023_President_s Speech_Proofread Version .docx\n",
            "Saved to: 2023_President_s Speech_Proofread Version .xlsx\n",
            "Processing file: 2021_PM_s Speech_Proofread version.docx\n",
            "Saved to: 2021_PM_s Speech_Proofread version.xlsx\n",
            "All files processed!\n"
          ]
        }
      ]
    },
    {
      "cell_type": "code",
      "source": [],
      "metadata": {
        "id": "tQY0Cb75gwrC"
      },
      "execution_count": null,
      "outputs": []
    }
  ]
}