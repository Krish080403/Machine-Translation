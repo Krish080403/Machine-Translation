{
  "nbformat": 4,
  "nbformat_minor": 0,
  "metadata": {
    "colab": {
      "provenance": []
    },
    "kernelspec": {
      "name": "python3",
      "display_name": "Python 3"
    },
    "language_info": {
      "name": "python"
    }
  },
  "cells": [
    {
      "cell_type": "markdown",
      "source": [
        "### **CONVERTING FROM TEXT TO EXCEL OUTPUT**"
      ],
      "metadata": {
        "id": "pZfGgWL39QgZ"
      }
    },
    {
      "cell_type": "code",
      "execution_count": null,
      "metadata": {
        "id": "RxE3HnE8BZXD"
      },
      "outputs": [],
      "source": [
        "        import pandas as pd\n",
        "        dehypo_sentences = []\n",
        "        sample_id=[]\n",
        "        source_sentences = []\n",
        "        target_sentences = []\n",
        "        hypo_sentences = []\n",
        "        chrf_scores = []\n",
        "        chrf_plus_scores=[]\n",
        "        bleu_scores=[]\n",
        "        bleu_details=[]\n",
        "        Log_Probability=[]\n",
        "        with open('/content/output.txt', 'r', encoding='utf-8') as file:\n",
        "            for line in file:\n",
        "                line = line.strip()\n",
        "                if line.startswith(\"S-__hi__\"):\n",
        "                    source_sentence = line[len(\"S-__hi__\"):]\n",
        "                    source_sentences.append(source_sentence)\n",
        "                if line.startswith(\"T-\"):\n",
        "                    target_sentence = line[len(\"T-\"):]\n",
        "                    target_sentences.append(target_sentence)\n",
        "                if line.startswith(\"T-__mr__\"):\n",
        "                    dehypo_sentence = line[len(\"D- \"):]\n",
        "                    dehypo_sentences.append(dehypo_sentence)\n",
        "                if line.startswith(\"D-\"):\n",
        "                    dehypo_sentence = line[len(\"D- \"):]\n",
        "                    dehypo_sentences.append(dehypo_sentence)\n",
        "                if line.startswith(\"Sample_Id-\"):\n",
        "                    sample = line[len(\"Sample_Id-\"):]\n",
        "                    sample_id.append(sample)\n",
        "                elif line.startswith(\"Cfhrf score:\"):\n",
        "                    chrf_score = line[len(\"Cfhrf score: \"):]\n",
        "                    chrf_scores.append(chrf_score)\n",
        "                elif line.startswith(\"Cfhrf++ score:\"):\n",
        "                    chrf_plus_score = line[len(\"Cfhrf++ score: \"):]\n",
        "                    chrf_plus_scores.append(chrf_plus_score)\n",
        "                elif line.startswith(\"Bleu score: \"):\n",
        "                    bleu_detail = line[len(\"Bleu score: \"):]\n",
        "                    bleu_details.append(bleu_detail)\n",
        "        # Create a DataFrame\n",
        "        data = {\n",
        "            'Sample_id': sample_id,\n",
        "            'Source': source_sentences,\n",
        "            'Target': target_sentences,\n",
        "            'Generated': dehypo_sentences,\n",
        "            'CHRF2': chrf_scores,\n",
        "            'CHRF2++': chrf_plus_scores,\n",
        "            'BLEU Details': bleu_details,\n",
        "\n",
        "        }\n",
        "        df = pd.DataFrame(data)\n",
        "        df['BLEU'] = df['BLEU Details'].str.extract(r'BLEU = (\\d+\\.\\d+)')[0]\n",
        "        df['Sample_id'] = pd.to_numeric(df['Sample_id'], errors='coerce')\n",
        "        df= df.sort_values(by='Sample_id')\n",
        "        df= df.reset_index(drop=True)\n",
        "        df.sort_values(by='Sample_id',inplace=True)\n",
        "        df=df.drop(columns='Sample_id')\n",
        "        display(df)\n",
        "# Export to Excel file\n",
        "        df.to_excel('output111.xlsx', index=False, header=True)\n"
      ]
    },
    {
      "cell_type": "markdown",
      "source": [
        "### **DATA PREPROCESS**"
      ],
      "metadata": {
        "id": "BLx5v_Zw9e9m"
      }
    },
    {
      "cell_type": "code",
      "source": [
        "import pandas as pd\n",
        "\n",
        "# Assuming you have loaded your data into a DataFrame named df\n",
        "df = pd.read_excel(\"/content/test.xlsx\")  # Load your Excel file\n",
        "\n",
        "# Function to remove line breaks within the same block\n",
        "def remove_line_breaks(text):\n",
        "    if pd.isnull(text):\n",
        "        return text\n",
        "    if isinstance(text, str):\n",
        "        return ' '.join(text.splitlines())\n",
        "    return text  # If it's not a string, return it as is\n",
        "\n",
        "# Apply the function to the HINDI and MUNDARI columns\n",
        "df['HINDI'] = df['HINDI'].apply(remove_line_breaks)\n",
        "df['MUNDARI'] = df['MUNDARI'].apply(remove_line_breaks)\n",
        "\n",
        "\n",
        "# Strip leading and trailing white spaces from all cells\n",
        "df = df.applymap(lambda x: x.strip() if isinstance(x, str) else x)\n",
        "\n",
        "# Save the cleaned data back to a new Excel file\n",
        "output_file = '/content/test.xlsx'\n",
        "df.to_excel(output_file, index=False)\n",
        "\n",
        "print(\"File is cleaned\")"
      ],
      "metadata": {
        "id": "B9wXIi1S95wz"
      },
      "execution_count": null,
      "outputs": []
    },
    {
      "cell_type": "markdown",
      "source": [
        "#Data Preprocessing(same thing but in two parts)"
      ],
      "metadata": {
        "id": "03OJlKjIUsPe"
      }
    },
    {
      "cell_type": "code",
      "source": [
        "import pandas as pd\n",
        "\n",
        "# Assuming you have loaded your data into a DataFrame named df\n",
        "df = pd.read_excel(\"/content/test.xlsx\")  # Load your Excel file\n",
        "\n",
        "# Function to remove line breaks within the same block\n",
        "def remove_line_breaks(text):\n",
        "    if pd.isnull(text):\n",
        "        return text\n",
        "    if isinstance(text, str):\n",
        "        return ' '.join(text.splitlines())\n",
        "    return text  # If it's not a string, return it as is\n",
        "\n",
        "# Apply the function to the HINDI and MUNDARI columns\n",
        "df['HINDI'] = df['HINDI'].apply(remove_line_breaks)\n",
        "df['MUNDARI'] = df['MUNDARI'].apply(remove_line_breaks)\n",
        "\n",
        "# Now df['HINDI'] and df['MUNDARI'] have no line breaks within the same block\n",
        "# You can save the cleaned data if needed\n",
        "df.to_excel('/content/test.xlsx', index=False)\n",
        "\n",
        "print(\"Line breaks within the same blocks have been removed.\")"
      ],
      "metadata": {
        "id": "3hjeHcKoURtI",
        "colab": {
          "base_uri": "https://localhost:8080/"
        },
        "outputId": "71806f82-e255-4958-fd6a-c4091babb76a"
      },
      "execution_count": null,
      "outputs": [
        {
          "output_type": "stream",
          "name": "stdout",
          "text": [
            "Line breaks within the same blocks have been removed.\n"
          ]
        }
      ]
    },
    {
      "cell_type": "code",
      "source": [
        "import pandas as pd\n",
        "\n",
        "# Load the Excel file\n",
        "file_path = '/content/test.xlsx'\n",
        "df = pd.read_excel(file_path)\n",
        "\n",
        "# Strip leading and trailing white spaces from all cells\n",
        "df = df.applymap(lambda x: x.strip() if isinstance(x, str) else x)\n",
        "\n",
        "# Save the cleaned data back to a new Excel file\n",
        "output_file = '/content/test.xlsx'\n",
        "df.to_excel(output_file, index=False)\n",
        "\n",
        "print(f\"White spaces removed and file saved as {output_file}\")\n"
      ],
      "metadata": {
        "id": "Wvqn49cuVNfQ",
        "colab": {
          "base_uri": "https://localhost:8080/"
        },
        "outputId": "fd18bad1-3947-4c3b-9ad2-38a7708d8cef"
      },
      "execution_count": null,
      "outputs": [
        {
          "output_type": "stream",
          "name": "stderr",
          "text": [
            "<ipython-input-3-22c60f465dbf>:8: FutureWarning: DataFrame.applymap has been deprecated. Use DataFrame.map instead.\n",
            "  df = df.applymap(lambda x: x.strip() if isinstance(x, str) else x)\n"
          ]
        },
        {
          "output_type": "stream",
          "name": "stdout",
          "text": [
            "White spaces removed and file saved as /content/test.xlsx\n"
          ]
        }
      ]
    }
  ]
}